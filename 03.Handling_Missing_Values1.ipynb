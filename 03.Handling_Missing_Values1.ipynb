{
 "cells": [
  {
   "cell_type": "code",
   "execution_count": 1,
   "metadata": {},
   "outputs": [],
   "source": [
    "import pandas as pd\n",
    "import numpy as np\n",
    "import matplotlib.pyplot as plt"
   ]
  },
  {
   "cell_type": "code",
   "execution_count": 2,
   "metadata": {},
   "outputs": [
    {
     "data": {
      "text/plain": [
       "(891, 12)"
      ]
     },
     "execution_count": 2,
     "metadata": {},
     "output_type": "execute_result"
    }
   ],
   "source": [
    "df = pd.read_csv(\"DataSets/Titanic.csv\")\n",
    "df.shape"
   ]
  },
  {
   "cell_type": "code",
   "execution_count": 3,
   "metadata": {},
   "outputs": [
    {
     "data": {
      "text/plain": [
       "PassengerId      0\n",
       "Survived         0\n",
       "Pclass           0\n",
       "Name             0\n",
       "Sex              0\n",
       "Age            177\n",
       "SibSp            0\n",
       "Parch            0\n",
       "Ticket           0\n",
       "Fare             0\n",
       "Cabin          687\n",
       "Embarked         2\n",
       "dtype: int64"
      ]
     },
     "execution_count": 3,
     "metadata": {},
     "output_type": "execute_result"
    }
   ],
   "source": [
    "df.isna().sum()"
   ]
  },
  {
   "cell_type": "markdown",
   "metadata": {},
   "source": [
    "### Types of Missing Values\n",
    "* MCAR:Missing Completely at Random\n",
    "* MAR:Missing At Random,\n",
    "* MNAR:Missing Not At Random\n",
    "##### MCAR : The data are missing is independent of the observed and unobserved data\n",
    "##### MAR : The data are missing is systematically related to the observed but not the unobserved data.\n",
    "##### MNAR : The data are missing is systematically related to the unobserved data, that is, the missingness is related to                                    events or factors which are not measured by the researcher.\n",
    "* MCAR: Missing data from Embarked\n",
    "* MAR: Age & Cabin\n",
    "* MNAR: e.g. Females:Age data is missing most of the time.....Which is not related to and feature from table"
   ]
  },
  {
   "cell_type": "markdown",
   "metadata": {},
   "source": [
    "#### Methods:Handlling Missing Values"
   ]
  },
  {
   "cell_type": "markdown",
   "metadata": {},
   "source": [
    "###### 1.Mean,Median  Emputation"
   ]
  },
  {
   "cell_type": "code",
   "execution_count": 4,
   "metadata": {},
   "outputs": [],
   "source": [
    "class MM:\n",
    "    def __init__(self,df,feature):\n",
    "        self.feature = feature\n",
    "        self.df = df\n",
    "        self.mean = np.mean(df[feature])\n",
    "         \n",
    "    def ensembling(self):\n",
    "        df[self.feature + '_mean_ensembling'] = df[self.feature].fillna(self.mean)\n",
    "        return df[self.feature + '_mean_ensembling']"
   ]
  },
  {
   "cell_type": "code",
   "execution_count": 5,
   "metadata": {},
   "outputs": [
    {
     "data": {
      "text/plain": [
       "0      22.000000\n",
       "1      38.000000\n",
       "2      26.000000\n",
       "3      35.000000\n",
       "4      35.000000\n",
       "         ...    \n",
       "886    27.000000\n",
       "887    19.000000\n",
       "888    29.699118\n",
       "889    26.000000\n",
       "890    32.000000\n",
       "Name: Age_mean_ensembling, Length: 891, dtype: float64"
      ]
     },
     "execution_count": 5,
     "metadata": {},
     "output_type": "execute_result"
    }
   ],
   "source": [
    "mm = MM(df,\"Age\")\n",
    "mm.ensembling()"
   ]
  },
  {
   "cell_type": "code",
   "execution_count": 6,
   "metadata": {},
   "outputs": [
    {
     "data": {
      "text/plain": [
       "<AxesSubplot:ylabel='Density'>"
      ]
     },
     "execution_count": 6,
     "metadata": {},
     "output_type": "execute_result"
    },
    {
     "data": {
      "image/png": "[encoded data removed]",
      "text/plain": [
       "<Figure size 432x288 with 1 Axes>"
      ]
     },
     "metadata": {
      "needs_background": "light"
     },
     "output_type": "display_data"
    }
   ],
   "source": [
    "%matplotlib inline\n",
    "fig = plt.figure()\n",
    "ax = fig.add_subplot(111)\n",
    "df.Age.plot(kind = 'kde', ax = ax)\n",
    "df.Age_mean_ensembling.plot(kind = 'kde', ax = ax,color = 'red')"
   ]
  },
  {
   "cell_type": "markdown",
   "metadata": {},
   "source": [
    "###### 2.Random Emputation"
   ]
  },
  {
   "cell_type": "code",
   "execution_count": 7,
   "metadata": {},
   "outputs": [],
   "source": [
    "def random_esn(df,feature):\n",
    "    na_len = df[feature].isna().sum()\n",
    "    random_val = df[df[feature].isna() == False][feature].sample(na_len)\n",
    "    not_null = df[df[feature].isna() == False][feature]     \n",
    "    df1 = random_val \n",
    "    df2 = not_null   \n",
    "    df = pd.concat([df1,df2],axis = 0)\n",
    "    return df.sort_index(axis = 0)"
   ]
  },
  {
   "cell_type": "code",
   "execution_count": 8,
   "metadata": {},
   "outputs": [],
   "source": [
    "df_random = random_esn(df,'Age')"
   ]
  },
  {
   "cell_type": "markdown",
   "metadata": {},
   "source": [
    "###### This is the frequency distribution of mean and random emputation\n",
    "####  So random emputation works better in MAR compare to mean emputation"
   ]
  },
  {
   "cell_type": "code",
   "execution_count": 9,
   "metadata": {},
   "outputs": [
    {
     "data": {
      "text/plain": [
       "<AxesSubplot:ylabel='Density'>"
      ]
     },
     "execution_count": 9,
     "metadata": {},
     "output_type": "execute_result"
    },
    {
     "data": {
      "image/png": "[encoded data removed]",
      "text/plain": [
       "<Figure size 432x288 with 1 Axes>"
      ]
     },
     "metadata": {
      "needs_background": "light"
     },
     "output_type": "display_data"
    }
   ],
   "source": [
    "%matplotlib inline\n",
    "fig = plt.figure()\n",
    "ax = fig.add_subplot(111)\n",
    "df.Age.plot(kind = 'kde', ax = ax)\n",
    "df_random.plot(kind = 'kde', ax = ax,color = 'yellow')\n",
    "df.Age_mean_ensembling.plot(kind = 'kde', ax = ax,color = 'red')"
   ]
  },
  {
   "cell_type": "markdown",
   "metadata": {},
   "source": [
    "##### Fill Null Values by Prediction"
   ]
  },
  {
   "cell_type": "code",
   "execution_count": 10,
   "metadata": {},
   "outputs": [],
   "source": [
    "X = df[df.Age.isna() == False][['Fare','Survived']]\n",
    "y = df[df.Age.isna() == False]['Age']"
   ]
  },
  {
   "cell_type": "code",
   "execution_count": 11,
   "metadata": {},
   "outputs": [
    {
     "data": {
      "text/plain": [
       "LinearRegression()"
      ]
     },
     "execution_count": 11,
     "metadata": {},
     "output_type": "execute_result"
    }
   ],
   "source": [
    "from sklearn.linear_model import LinearRegression\n",
    "reg = LinearRegression()\n",
    "reg.fit(X,y)"
   ]
  },
  {
   "cell_type": "code",
   "execution_count": 12,
   "metadata": {},
   "outputs": [
    {
     "data": {
      "text/plain": [
       "array([30.12510206, 27.00204533, 26.80257682, 30.08250387, 26.82517289,\n",
       "       30.10567331, 31.61385383, 26.82071032, 26.80272189, 30.10567331,\n",
       "       30.11099937, 30.36832238, 26.82071032, 30.58175195, 27.77919534,\n",
       "       30.79042882, 27.07961526, 30.10567331, 30.11099937, 26.82200557,\n",
       "       30.11099937, 30.11099937, 30.10567331, 26.82157382, 27.38716633,\n",
       "       30.11099937, 30.10063737, 27.32528101, 30.35954231, 30.08552612,\n",
       "       30.13215512, 32.23520941, 28.45272535, 30.72840188, 30.7125722 ,\n",
       "       32.23520941, 30.35277938, 31.5599524 , 27.08839533, 30.10063737,\n",
       "       26.82071032, 32.23520941, 30.10063737, 30.10567331, 30.7125722 ,\n",
       "       30.09372937, 30.33220045, 27.08839533, 30.08336737, 29.28859336,\n",
       "       30.10063737, 30.10063737, 30.90369239, 26.82071032, 29.83295237,\n",
       "       30.73099238, 30.79042882, 27.60649534, 26.82071032, 27.35608033,\n",
       "       26.97959433, 30.11099937, 30.38293456, 32.23520941, 27.35608033,\n",
       "       31.16929639, 30.10567331, 27.10911933, 31.04185239, 30.08250387,\n",
       "       26.82517289, 26.82517289, 30.36832238, 26.80272189, 26.82071032,\n",
       "       29.3912048 , 30.10567331, 30.09991894, 30.7125722 , 30.10567331,\n",
       "       30.06983806, 29.83295237, 30.11099937, 30.10567331, 30.08336737,\n",
       "       30.10063737, 27.10911933, 26.83323107, 30.5226022 , 30.11099937,\n",
       "       28.3443561 , 30.10063737, 30.11099937, 29.83295237, 30.09977387,\n",
       "       30.08336737, 31.6290324 , 29.83295237, 30.7125722 , 30.5226022 ,\n",
       "       30.33234206, 30.35450638, 30.09646494, 27.47006233, 30.11099937,\n",
       "       30.66709338, 30.08250387, 30.08264894, 37.49320606, 30.08264894,\n",
       "       27.32528101, 30.33378238, 27.03183608, 30.10337294, 37.69166599,\n",
       "       30.10063737, 30.11099937, 30.11099937, 30.08264894, 26.82071032,\n",
       "       30.33234206, 30.13388212, 30.11099937, 30.10063737, 27.69284534,\n",
       "       30.08250387, 30.10567331, 31.29744839, 30.07645937, 27.08839533,\n",
       "       30.10063737, 30.10006056, 29.83295237, 30.38904638, 28.50439028,\n",
       "       30.09372937, 30.10567331, 26.82344589, 30.10567331, 30.10150087,\n",
       "       28.34910535, 29.83295237, 30.11402162, 28.50439028, 26.82013351,\n",
       "       27.07961526, 30.74998938, 30.36832238, 26.82027857, 29.83295237,\n",
       "       30.10567331, 30.10567331, 27.58922534, 30.33378238, 31.20073639,\n",
       "       30.66709338, 30.08250387, 30.10063737, 30.10020562, 30.64291538,\n",
       "       30.10063737, 32.23520941, 30.89318532, 29.83295237, 30.07300537,\n",
       "       31.78431733, 26.82071032, 30.08264894, 30.11099937, 27.57886334,\n",
       "       32.23520941, 29.63068444, 30.08264894, 32.23520941, 30.16108237,\n",
       "       30.10567331, 30.64291538])"
      ]
     },
     "execution_count": 12,
     "metadata": {},
     "output_type": "execute_result"
    }
   ],
   "source": [
    "y_test = df[df.Age.isna() == True][['Fare','Survived']]\n",
    "y_pred = reg.predict(y_test) \n",
    "y_pred"
   ]
  },
  {
   "cell_type": "code",
   "execution_count": 13,
   "metadata": {},
   "outputs": [
    {
     "data": {
      "text/plain": [
       "Int64Index([  5,  17,  19,  26,  28,  29,  31,  32,  36,  42,\n",
       "            ...\n",
       "            832, 837, 839, 846, 849, 859, 863, 868, 878, 888],\n",
       "           dtype='int64', length=177)"
      ]
     },
     "execution_count": 13,
     "metadata": {},
     "output_type": "execute_result"
    }
   ],
   "source": [
    "null_index = df[df.Age.isna() == True].index\n",
    "null_index"
   ]
  },
  {
   "cell_type": "code",
   "execution_count": 18,
   "metadata": {},
   "outputs": [],
   "source": [
    "predicted_age = pd.DataFrame(y_pred,index=null_index)"
   ]
  },
  {
   "cell_type": "code",
   "execution_count": 19,
   "metadata": {},
   "outputs": [
    {
     "data": {
      "text/html": [
       "<div>\n",
       "<style scoped>\n",
       "    .dataframe tbody tr th:only-of-type {\n",
       "        vertical-align: middle;\n",
       "    }\n",
       "\n",
       "    .dataframe tbody tr th {\n",
       "        vertical-align: top;\n",
       "    }\n",
       "\n",
       "    .dataframe thead th {\n",
       "        text-align: right;\n",
       "    }\n",
       "</style>\n",
       "<table border=\"1\" class=\"dataframe\">\n",
       "  <thead>\n",
       "    <tr style=\"text-align: right;\">\n",
       "      <th></th>\n",
       "      <th>0</th>\n",
       "    </tr>\n",
       "  </thead>\n",
       "  <tbody>\n",
       "    <tr>\n",
       "      <th>5</th>\n",
       "      <td>30.125102</td>\n",
       "    </tr>\n",
       "    <tr>\n",
       "      <th>17</th>\n",
       "      <td>27.002045</td>\n",
       "    </tr>\n",
       "    <tr>\n",
       "      <th>19</th>\n",
       "      <td>26.802577</td>\n",
       "    </tr>\n",
       "    <tr>\n",
       "      <th>26</th>\n",
       "      <td>30.082504</td>\n",
       "    </tr>\n",
       "    <tr>\n",
       "      <th>28</th>\n",
       "      <td>26.825173</td>\n",
       "    </tr>\n",
       "    <tr>\n",
       "      <th>...</th>\n",
       "      <td>...</td>\n",
       "    </tr>\n",
       "    <tr>\n",
       "      <th>859</th>\n",
       "      <td>30.082649</td>\n",
       "    </tr>\n",
       "    <tr>\n",
       "      <th>863</th>\n",
       "      <td>32.235209</td>\n",
       "    </tr>\n",
       "    <tr>\n",
       "      <th>868</th>\n",
       "      <td>30.161082</td>\n",
       "    </tr>\n",
       "    <tr>\n",
       "      <th>878</th>\n",
       "      <td>30.105673</td>\n",
       "    </tr>\n",
       "    <tr>\n",
       "      <th>888</th>\n",
       "      <td>30.642915</td>\n",
       "    </tr>\n",
       "  </tbody>\n",
       "</table>\n",
       "<p>177 rows × 1 columns</p>\n",
       "</div>"
      ],
      "text/plain": [
       "             0\n",
       "5    30.125102\n",
       "17   27.002045\n",
       "19   26.802577\n",
       "26   30.082504\n",
       "28   26.825173\n",
       "..         ...\n",
       "859  30.082649\n",
       "863  32.235209\n",
       "868  30.161082\n",
       "878  30.105673\n",
       "888  30.642915\n",
       "\n",
       "[177 rows x 1 columns]"
      ]
     },
     "execution_count": 19,
     "metadata": {},
     "output_type": "execute_result"
    }
   ],
   "source": [
    "predicted_age"
   ]
  },
  {
   "cell_type": "code",
   "execution_count": 20,
   "metadata": {},
   "outputs": [
    {
     "data": {
      "text/plain": [
       "0      22.0\n",
       "1      38.0\n",
       "2      26.0\n",
       "3      35.0\n",
       "4      35.0\n",
       "       ... \n",
       "885    39.0\n",
       "886    27.0\n",
       "887    19.0\n",
       "889    26.0\n",
       "890    32.0\n",
       "Name: Age, Length: 714, dtype: float64"
      ]
     },
     "execution_count": 20,
     "metadata": {},
     "output_type": "execute_result"
    }
   ],
   "source": [
    "not_null = df[df.Age.isna() == False]['Age']\n",
    "not_null"
   ]
  },
  {
   "cell_type": "code",
   "execution_count": 21,
   "metadata": {},
   "outputs": [
    {
     "data": {
      "text/html": [
       "<div>\n",
       "<style scoped>\n",
       "    .dataframe tbody tr th:only-of-type {\n",
       "        vertical-align: middle;\n",
       "    }\n",
       "\n",
       "    .dataframe tbody tr th {\n",
       "        vertical-align: top;\n",
       "    }\n",
       "\n",
       "    .dataframe thead th {\n",
       "        text-align: right;\n",
       "    }\n",
       "</style>\n",
       "<table border=\"1\" class=\"dataframe\">\n",
       "  <thead>\n",
       "    <tr style=\"text-align: right;\">\n",
       "      <th></th>\n",
       "      <th>0</th>\n",
       "    </tr>\n",
       "  </thead>\n",
       "  <tbody>\n",
       "    <tr>\n",
       "      <th>0</th>\n",
       "      <td>22.000000</td>\n",
       "    </tr>\n",
       "    <tr>\n",
       "      <th>1</th>\n",
       "      <td>38.000000</td>\n",
       "    </tr>\n",
       "    <tr>\n",
       "      <th>2</th>\n",
       "      <td>26.000000</td>\n",
       "    </tr>\n",
       "    <tr>\n",
       "      <th>3</th>\n",
       "      <td>35.000000</td>\n",
       "    </tr>\n",
       "    <tr>\n",
       "      <th>4</th>\n",
       "      <td>35.000000</td>\n",
       "    </tr>\n",
       "    <tr>\n",
       "      <th>5</th>\n",
       "      <td>30.125102</td>\n",
       "    </tr>\n",
       "    <tr>\n",
       "      <th>6</th>\n",
       "      <td>54.000000</td>\n",
       "    </tr>\n",
       "    <tr>\n",
       "      <th>7</th>\n",
       "      <td>2.000000</td>\n",
       "    </tr>\n",
       "    <tr>\n",
       "      <th>8</th>\n",
       "      <td>27.000000</td>\n",
       "    </tr>\n",
       "    <tr>\n",
       "      <th>9</th>\n",
       "      <td>14.000000</td>\n",
       "    </tr>\n",
       "  </tbody>\n",
       "</table>\n",
       "</div>"
      ],
      "text/plain": [
       "           0\n",
       "0  22.000000\n",
       "1  38.000000\n",
       "2  26.000000\n",
       "3  35.000000\n",
       "4  35.000000\n",
       "5  30.125102\n",
       "6  54.000000\n",
       "7   2.000000\n",
       "8  27.000000\n",
       "9  14.000000"
      ]
     },
     "execution_count": 21,
     "metadata": {},
     "output_type": "execute_result"
    }
   ],
   "source": [
    "df_pred = pd.concat([not_null,predicted_age],axis = 0)\n",
    "df_pred = df_pred.sort_index(axis = 0,ascending = True)\n",
    "df_pred.head(10)"
   ]
  },
  {
   "cell_type": "code",
   "execution_count": 29,
   "metadata": {},
   "outputs": [
    {
     "data": {
      "text/plain": [
       "<AxesSubplot:ylabel='Density'>"
      ]
     },
     "execution_count": 29,
     "metadata": {},
     "output_type": "execute_result"
    },
    {
     "data": {
      "image/png": "[encoded data removed]",
      "text/plain": [
       "<Figure size 432x288 with 1 Axes>"
      ]
     },
     "metadata": {
      "needs_background": "light"
     },
     "output_type": "display_data"
    }
   ],
   "source": [
    "%matplotlib inline\n",
    "fig = plt.figure()\n",
    "ax = fig.add_subplot(111)\n",
    "df.Age.plot(kind = 'kde', ax = ax)\n",
    "df_pred.plot(kind = 'kde', ax = ax,color = 'red')\n",
    " "
   ]
  }
 ],
 "metadata": {
  "kernelspec": {
   "display_name": "Python 3",
   "language": "python",
   "name": "python3"
  },
  "language_info": {
   "codemirror_mode": {
    "name": "ipython",
    "version": 3
   },
   "file_extension": ".py",
   "mimetype": "text/x-python",
   "name": "python",
   "nbconvert_exporter": "python",
   "pygments_lexer": "ipython3",
   "version": "3.8.5"
  }
 },
 "nbformat": 4,
 "nbformat_minor": 4
}
